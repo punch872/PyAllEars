{
 "cells": [
  {
   "cell_type": "markdown",
   "metadata": {},
   "source": [
    "# Text Mining and Tweet Analyzing 📊"
   ]
  },
  {
   "cell_type": "markdown",
   "metadata": {},
   "source": [
    "![title](img/Twitter_Text_Mining.png)"
   ]
  },
  {
   "cell_type": "markdown",
   "metadata": {},
   "source": [
    "## Introduction\n",
    "Text mining is the application of natural language processing techniques and analytical methods to text data in order to derive relevant information. in this following works, It shows how to collecting data from Twitter with Twitter Streaming API that allow us to capture tweets real-time filter. "
   ]
  },
  {
   "cell_type": "markdown",
   "metadata": {},
   "source": [
    "In this study case I will use #WorldCup data to compare the popularity of 4 most popularity during Fifa World Cup Russia 2018 and most football player: Cristiano Ronaldo, Neymar,Lionel Messi and Luis Suarez, and to retrieve links to the news resoruces such as tweet,website,video,youtube etc.. In the first Part, I will explaing how to connect to Twitter Streaming API and how to get the data. In the second Part, I will explain and show how to structure the data for analysis, and in the last paragraph, And Finally I will explain how to filter the data and extract links from tweets."
   ]
  },
  {
   "cell_type": "markdown",
   "metadata": {},
   "source": [
    "# -- Part 1:Getting Start with Twitter API --"
   ]
  },
  {
   "cell_type": "markdown",
   "metadata": {},
   "source": [
    "## Understanding of Twitter API"
   ]
  },
  {
   "cell_type": "markdown",
   "metadata": {},
   "source": [
    "API stands for Application Programming Interface. It is a tool that makes the interaction with computer programs and web services easy"
   ]
  },
  {
   "cell_type": "markdown",
   "metadata": {},
   "source": [
    "## Getting API\n",
    "\n",
    "- Create a twitter account if you do not already have one.\n",
    "- Go to https://apps.twitter.com/ and log in with your twitter credentials.\n",
    "- Click \"Create New App\"\n",
    "- Fill out the form, agree to the terms, and click \"Create your Twitter application\"\n",
    "- In the next page, click on \"API keys\" tab, and copy your \"API key\" and \"API secret\".\n",
    "- Scroll down and click \"Create my access token\", and copy your \"Access token\" and \"Access token secret\".\n"
   ]
  },
  {
   "cell_type": "markdown",
   "metadata": {},
   "source": [
    "![title](img/Cap5.png)"
   ]
  },
  {
   "cell_type": "markdown",
   "metadata": {},
   "source": [
    "![title](img/Cap4.png)"
   ]
  },
  {
   "cell_type": "markdown",
   "metadata": {},
   "source": [
    "![title](img/Cap6.png)"
   ]
  },
  {
   "cell_type": "markdown",
   "metadata": {},
   "source": [
    "# Create Twitter streaming APIfile to shows the result of realtime filter streaming "
   ]
  },
  {
   "cell_type": "markdown",
   "metadata": {},
   "source": [
    "create a file name Twitter_stream_api.py "
   ]
  },
  {
   "cell_type": "markdown",
   "metadata": {},
   "source": [
    "![title](img/Cap1.png)"
   ]
  },
  {
   "cell_type": "markdown",
   "metadata": {},
   "source": [
    "### there are the outputs when execute the instruction from above\n",
    "the output returns the value in JSON from which contain more than 100 keys in 1 tweet, I've been streaming for 2 hours to collect data form Twitter "
   ]
  },
  {
   "cell_type": "markdown",
   "metadata": {},
   "source": [
    "![title](img/Cap2.png)"
   ]
  },
  {
   "cell_type": "markdown",
   "metadata": {},
   "source": [
    "# Capturing and Reading the Data"
   ]
  },
  {
   "cell_type": "markdown",
   "metadata": {},
   "source": [
    "#### In order to capture  the data for the analysis. I colloect by following command to store data in txt file"
   ]
  },
  {
   "cell_type": "markdown",
   "metadata": {},
   "source": [
    " #### <span style=\"color:blue\">python3</span> Twitter_stream_api.py > data/worldcup2018_twitter_data.txt"
   ]
  },
  {
   "cell_type": "markdown",
   "metadata": {},
   "source": [
    "![title](img/Cap3.png)"
   ]
  },
  {
   "cell_type": "markdown",
   "metadata": {},
   "source": [
    "The data that we retrived is store in worldcup2018_twitter_data.txt which are JSON forfrt you can see that the tweet contain additional and more information example :\n",
    "\n",
    "<span style=\"color:red\" >\"text\"</span>:\"Lionel Messi, Marcus Rojo\\u2019s goals as Argentina best Nigeria"
   ]
  },
  {
   "cell_type": "markdown",
   "metadata": {},
   "source": [
    "# -------------------------------------------------------------------------------------------"
   ]
  },
  {
   "cell_type": "markdown",
   "metadata": {},
   "source": [
    "# -- Part 2: Structured data and analysis --"
   ]
  },
  {
   "cell_type": "markdown",
   "metadata": {},
   "source": [
    "### import necessary library which contain \n",
    "- Json\n",
    "- pandas\n",
    "- matplotlib\n",
    "- re\n",
    "- matplotlib"
   ]
  },
  {
   "cell_type": "code",
   "execution_count": 75,
   "metadata": {},
   "outputs": [],
   "source": [
    "%matplotlib inline\n",
    "import re\n",
    "import json\n",
    "import pandas as pd\n",
    "import matplotlib.pyplot as plt"
   ]
  },
  {
   "cell_type": "markdown",
   "metadata": {},
   "source": [
    "### Read captured data from Txt File"
   ]
  },
  {
   "cell_type": "code",
   "execution_count": 76,
   "metadata": {},
   "outputs": [],
   "source": [
    "#path to tweets collected data\n",
    "tweets_data_path = 'data/worldcup2018_twitter_data.txt'\n",
    "#open the file\n",
    "tweets_data = []\n",
    "tweets_file = open(tweets_data_path, \"r\")\n",
    "for line in tweets_file:\n",
    "    try:\n",
    "        tweet = json.loads(line)\n",
    "        tweets_data.append(tweet)\n",
    "    except:\n",
    "        continue"
   ]
  },
  {
   "cell_type": "markdown",
   "metadata": {},
   "source": [
    "## Show the total captured tweet data \n",
    "using print and len ( ) function to read all count tweet data that has captured\n"
   ]
  },
  {
   "cell_type": "code",
   "execution_count": 77,
   "metadata": {},
   "outputs": [
    {
     "name": "stdout",
     "output_type": "stream",
     "text": [
      "6008\n"
     ]
    }
   ],
   "source": [
    "print(len(tweets_data))"
   ]
  },
  {
   "cell_type": "markdown",
   "metadata": {},
   "source": [
    "In This data/worldcup2018_twitter_data.txt we've capture totally <strong>6008</strong> tweets from twitter"
   ]
  },
  {
   "cell_type": "code",
   "execution_count": 78,
   "metadata": {},
   "outputs": [],
   "source": [
    "tweets = pd.DataFrame()"
   ]
  },
  {
   "cell_type": "markdown",
   "metadata": {},
   "source": [
    "Mapping capture tweet from JSON format fileform text file into data frame "
   ]
  },
  {
   "cell_type": "code",
   "execution_count": 79,
   "metadata": {},
   "outputs": [],
   "source": [
    "tweets['text'] = list(map(lambda tweet: tweet['text'], tweets_data))\n",
    "\n",
    "tweets['lang'] = list(map(lambda tweet: tweet['lang'], tweets_data))\n",
    "\n",
    "tweets['country'] = list(map(lambda tweet: tweet['place']['country'] if tweet['place'] != None else None, tweets_data))\n",
    "\n"
   ]
  },
  {
   "cell_type": "code",
   "execution_count": 100,
   "metadata": {},
   "outputs": [],
   "source": [
    "tweets_by_lang = tweets['lang'].value_counts()"
   ]
  },
  {
   "cell_type": "code",
   "execution_count": 81,
   "metadata": {},
   "outputs": [
    {
     "data": {
      "text/plain": [
       "en    3894\n",
       "pt     402\n",
       "es     335\n",
       "fr     270\n",
       "ja     221\n",
       "Name: lang, dtype: int64"
      ]
     },
     "execution_count": 81,
     "metadata": {},
     "output_type": "execute_result"
    }
   ],
   "source": [
    "tweets_by_lang.head()"
   ]
  },
  {
   "cell_type": "code",
   "execution_count": null,
   "metadata": {},
   "outputs": [],
   "source": []
  },
  {
   "cell_type": "markdown",
   "metadata": {},
   "source": [
    "## Drawing the Graph\n",
    "In order to impliment the graph we use Mathplotlib library to draw the grph which has many kind of graph.In a simple implimentation I use bar graph for showing counting result from above and finding top 10 Languages from 60008 tweets that's captured"
   ]
  },
  {
   "cell_type": "code",
   "execution_count": 82,
   "metadata": {},
   "outputs": [
    {
     "data": {
      "text/plain": [
       "<matplotlib.axes._subplots.AxesSubplot at 0x11b3f30b8>"
      ]
     },
     "execution_count": 82,
     "metadata": {},
     "output_type": "execute_result"
    },
    {
     "data": {
      "image/png": "[encoded data removed]",
      "text/plain": [
       "<Figure size 432x288 with 1 Axes>"
      ]
     },
     "metadata": {},
     "output_type": "display_data"
    }
   ],
   "source": [
    "fig, ax = plt.subplots()\n",
    "ax.tick_params(axis='x', labelsize=15)\n",
    "ax.tick_params(axis='y', labelsize=10)\n",
    "ax.set_xlabel('Number of tweets', fontsize=15)\n",
    "ax.set_ylabel('Language' , fontsize=15)\n",
    "ax.set_title('Top 10 languages', fontsize=15, fontweight='bold')\n",
    "tweets_by_lang[:10].plot(ax=ax, kind='barh') "
   ]
  },
  {
   "cell_type": "markdown",
   "metadata": {},
   "source": [
    "Showing different result in different kind of graph"
   ]
  },
  {
   "cell_type": "code",
   "execution_count": 83,
   "metadata": {},
   "outputs": [
    {
     "data": {
      "text/plain": [
       "<matplotlib.axes._subplots.AxesSubplot at 0x11c42e278>"
      ]
     },
     "execution_count": 83,
     "metadata": {},
     "output_type": "execute_result"
    },
    {
     "data": {
      "image/png": "[encoded data removed]",
      "text/plain": [
       "<Figure size 432x288 with 1 Axes>"
      ]
     },
     "metadata": {},
     "output_type": "display_data"
    }
   ],
   "source": [
    "tweets_by_lang = tweets['lang'].value_counts()\n",
    "\n",
    "fig, ax = plt.subplots()\n",
    "ax.tick_params(axis='x', labelsize=15)\n",
    "ax.tick_params(axis='y', labelsize=10)\n",
    "ax.set_xlabel('Languages', fontsize=15)\n",
    "ax.set_ylabel('Number of tweets' , fontsize=15)\n",
    "ax.set_title('Top 10 languages', fontsize=15, fontweight='bold')\n",
    "tweets_by_lang[:10].plot(ax=ax, kind='pie',legend=True)"
   ]
  },
  {
   "cell_type": "code",
   "execution_count": 84,
   "metadata": {},
   "outputs": [
    {
     "data": {
      "text/plain": [
       "<matplotlib.axes._subplots.AxesSubplot at 0x11b9a9320>"
      ]
     },
     "execution_count": 84,
     "metadata": {},
     "output_type": "execute_result"
    },
    {
     "data": {
      "image/png": "[encoded data removed]",
      "text/plain": [
       "<Figure size 432x288 with 1 Axes>"
      ]
     },
     "metadata": {},
     "output_type": "display_data"
    }
   ],
   "source": [
    "tweets_by_country = tweets['country'].value_counts()\n",
    "\n",
    "fig, ax = plt.subplots()\n",
    "ax.tick_params(axis='x', labelsize=15)\n",
    "ax.tick_params(axis='y', labelsize=10)\n",
    "ax.set_xlabel('Countries', fontsize=15)\n",
    "ax.set_ylabel('Number of tweets' , fontsize=15)\n",
    "ax.set_title('Top 10 countries', fontsize=15, fontweight='bold')\n",
    "tweets_by_country[:10].plot(ax=ax, kind='bar')"
   ]
  },
  {
   "cell_type": "markdown",
   "metadata": {},
   "source": [
    "# -- Part3:Text Mining -- "
   ]
  },
  {
   "cell_type": "code",
   "execution_count": null,
   "metadata": {},
   "outputs": [],
   "source": []
  },
  {
   "cell_type": "code",
   "execution_count": null,
   "metadata": {},
   "outputs": [],
   "source": []
  },
  {
   "cell_type": "code",
   "execution_count": 85,
   "metadata": {},
   "outputs": [],
   "source": [
    "def word_in_text(word,text):\n",
    "    word = word.lower()\n",
    "    text = text.lower()\n",
    "    match = re.search(word,text)\n",
    "    if match :\n",
    "        return True\n",
    "    return False"
   ]
  },
  {
   "cell_type": "markdown",
   "metadata": {},
   "source": []
  },
  {
   "cell_type": "code",
   "execution_count": 86,
   "metadata": {},
   "outputs": [],
   "source": [
    "tweets['Cristiano Ronaldo'] =list(tweets['text'].apply(lambda tweet: word_in_text('Cristiano Ronaldo', tweet)))\n",
    "tweets['Luis Suarez'] =list(tweets['text'].apply(lambda tweet: word_in_text('Luis Suarez', tweet)))\n",
    "tweets['Neymar'] =list(tweets['text'].apply(lambda tweet: word_in_text('Neymar', tweet)))\n",
    "tweets['Lionel Messi'] =list(tweets['text'].apply(lambda tweet: word_in_text('Lionel Messi', tweet)))\n",
    "tweets['WorldCup'] =list(tweets['text'].apply(lambda tweet: word_in_text('Lionel Messi', tweet)))\n",
    "\n"
   ]
  },
  {
   "cell_type": "code",
   "execution_count": 87,
   "metadata": {},
   "outputs": [
    {
     "name": "stdout",
     "output_type": "stream",
     "text": [
      "False    5756\n",
      "True      252\n",
      "Name: Cristiano Ronaldo, dtype: int64\n",
      "False    6000\n",
      "True        8\n",
      "Name: Luis Suarez, dtype: int64\n",
      "False    5634\n",
      "True      374\n",
      "Name: Neymar, dtype: int64\n",
      "False    5340\n",
      "True      668\n",
      "Name: Lionel Messi, dtype: int64\n"
     ]
    }
   ],
   "source": [
    "print(tweets['Cristiano Ronaldo'].value_counts())\n",
    "print(tweets['Luis Suarez'].value_counts())\n",
    "print(tweets['Neymar'].value_counts())\n",
    "print(tweets['Lionel Messi'].value_counts())"
   ]
  },
  {
   "cell_type": "code",
   "execution_count": 88,
   "metadata": {},
   "outputs": [],
   "source": [
    "CR = tweets['Cristiano Ronaldo'].value_counts()[True]\n",
    "LS = tweets['Luis Suarez'].value_counts()[True]\n",
    "NM = tweets['Neymar'].value_counts()[True]\n",
    "LM = tweets['Lionel Messi'].value_counts()[True]"
   ]
  },
  {
   "cell_type": "code",
   "execution_count": 89,
   "metadata": {},
   "outputs": [
    {
     "name": "stdout",
     "output_type": "stream",
     "text": [
      "total tweets of Cristiano Ronaldo are \n",
      " 252 tweets\n",
      "total tweets of Luis Suarezare \n",
      " 8 tweets\n",
      "374\n",
      "668\n"
     ]
    }
   ],
   "source": [
    "print(\"total tweets of Cristiano Ronaldo are \\n\",CR,\"tweets\") #print total count of Cristiano Ronaldo\n",
    "print(\"total tweets of Luis Suarezare \\n\",LS,\"tweets\"),#print total count of Luis Suarez\n",
    "print(NM)#print total count of Neymar\n",
    "print(LM)#print total count of Lionel Messi\n"
   ]
  },
  {
   "cell_type": "markdown",
   "metadata": {},
   "source": [
    "## Ranking\n"
   ]
  },
  {
   "cell_type": "code",
   "execution_count": 90,
   "metadata": {},
   "outputs": [
    {
     "data": {
      "image/png": "[encoded data removed]",
      "text/plain": [
       "<Figure size 432x288 with 1 Axes>"
      ]
     },
     "metadata": {},
     "output_type": "display_data"
    }
   ],
   "source": [
    "Fb_player = ['Cristiano Ronaldo', 'Luis Suarez', 'Lionel Messi','Neymar']\n",
    "tweets_by_Fb_player = [CR,LS,LM,NM]\n",
    "x_pos = list(range(len(Fb_player)))\n",
    "width = 0.8\n",
    "fig, ax = plt.subplots()\n",
    "#ploting graph of tweets_by_Fb_player\n",
    "pack_color = 'rgbm'\n",
    "plt.bar(x_pos, tweets_by_Fb_player, width, alpha=1,color=pack_color)\n",
    "# Setting axis labels and ticks\n",
    "ax.set_ylabel('Number of tweets', fontsize=15)\n",
    "ax.set_title('Ranking: Cristiano Ronaldo vs. Luis Suarezvs vs Lionel Messi  vs Neymar', fontsize=10, fontweight='bold')\n",
    "ax.set_xticks([p + 0.01 * width for p in x_pos])\n",
    "ax.set_xticklabels(Fb_player)\n",
    "plt.show()\n"
   ]
  },
  {
   "cell_type": "markdown",
   "metadata": {},
   "source": [
    "## Specifying Relevant Tweet text"
   ]
  },
  {
   "cell_type": "code",
   "execution_count": null,
   "metadata": {},
   "outputs": [],
   "source": []
  },
  {
   "cell_type": "code",
   "execution_count": 91,
   "metadata": {},
   "outputs": [],
   "source": [
    "tweets['FIFA2018'] =list(tweets['text'].apply(lambda tweet: word_in_text('FIFA2018', tweet)))\n",
    "tweets['World Cup'] =list(tweets['text'].apply(lambda tweet: word_in_text('World Cup', tweet)))\n"
   ]
  },
  {
   "cell_type": "code",
   "execution_count": 92,
   "metadata": {},
   "outputs": [],
   "source": [
    "tweets['relevant'] = tweets['text'].apply(lambda tweet: word_in_text('FIFA2018', tweet) or \n",
    "                                          word_in_text('World Cup', tweet))                            "
   ]
  },
  {
   "cell_type": "code",
   "execution_count": 93,
   "metadata": {},
   "outputs": [
    {
     "name": "stdout",
     "output_type": "stream",
     "text": [
      "False    5692\n",
      "True      316\n",
      "Name: relevant, dtype: int64\n",
      "False    6005\n",
      "True        3\n",
      "Name: FIFA2018, dtype: int64\n",
      "False    5695\n",
      "True      313\n",
      "Name: World Cup, dtype: int64\n"
     ]
    }
   ],
   "source": [
    "print(tweets['relevant'].value_counts())\n",
    "print(tweets['FIFA2018'].value_counts())\n",
    "print(tweets['World Cup'].value_counts())"
   ]
  },
  {
   "cell_type": "code",
   "execution_count": 94,
   "metadata": {},
   "outputs": [
    {
     "name": "stdout",
     "output_type": "stream",
     "text": [
      "False    305\n",
      "True      11\n",
      "Name: Cristiano Ronaldo, dtype: int64\n",
      "False    314\n",
      "True       2\n",
      "Name: Luis Suarez, dtype: int64\n",
      "False    311\n",
      "True       5\n",
      "Name: Neymar, dtype: int64\n",
      "False    244\n",
      "True      72\n",
      "Name: Lionel Messi, dtype: int64\n"
     ]
    }
   ],
   "source": [
    "print(tweets[tweets['relevant'] == True]['Cristiano Ronaldo'].value_counts())\n",
    "print(tweets[tweets['relevant'] == True]['Luis Suarez'].value_counts())\n",
    "print(tweets[tweets['relevant'] == True]['Neymar'].value_counts())\n",
    "print(tweets[tweets['relevant'] == True]['Lionel Messi'].value_counts())"
   ]
  },
  {
   "cell_type": "code",
   "execution_count": 95,
   "metadata": {},
   "outputs": [
    {
     "data": {
      "image/png": "[encoded data removed]",
      "text/plain": [
       "<Figure size 432x288 with 1 Axes>"
      ]
     },
     "metadata": {},
     "output_type": "display_data"
    }
   ],
   "source": [
    "R_tweets_by_Fb_player = [tweets[tweets['relevant'] == True]['Cristiano Ronaldo'].value_counts()[True], \n",
    "                      tweets[tweets['relevant'] == True]['Luis Suarez'].value_counts()[True], \n",
    "                       tweets[tweets['relevant'] == True]['Lionel Messi'].value_counts()[True],\n",
    "                      tweets[tweets['relevant'] == True]['Neymar'].value_counts()[True],\n",
    "                     ]\n",
    "x_pos = list(range(len(R_tweets_by_Fb_player)))\n",
    "width = 0.8\n",
    "fig, ax = plt.subplots()\n",
    "plt.legend(R_tweets_by_Fb_player)\n",
    "plt.bar(x_pos, R_tweets_by_Fb_player, width,alpha=1,color=pack_color)\n",
    "# Setting axis labels and ticks\n",
    "ax.set_ylabel('Number of tweets', fontsize=15)\n",
    "ax.set_title('Ranking: Cristiano Ronaldo vs. Luis Suarez vs Lionel Messi  vs Neymar', fontsize=10, fontweight='bold')\n",
    "ax.set_xticks([p + 0.01 * width for p in x_pos])\n",
    "ax.set_xticklabels(Fb_player)\n",
    "plt.show()"
   ]
  },
  {
   "cell_type": "markdown",
   "metadata": {},
   "source": [
    "# Extracting links from the relevants tweets\n"
   ]
  },
  {
   "cell_type": "code",
   "execution_count": null,
   "metadata": {},
   "outputs": [],
   "source": []
  },
  {
   "cell_type": "code",
   "execution_count": 96,
   "metadata": {},
   "outputs": [],
   "source": [
    "def extract_link(text):\n",
    "    regex = r'https?://[^\\s<>\"]+|www\\.[^\\s<>\"]+'\n",
    "    match = re.search(regex, text)\n",
    "    if match:\n",
    "        return match.group()\n",
    "    return ''"
   ]
  },
  {
   "cell_type": "code",
   "execution_count": null,
   "metadata": {},
   "outputs": [],
   "source": []
  },
  {
   "cell_type": "code",
   "execution_count": 97,
   "metadata": {},
   "outputs": [],
   "source": [
    "tweets['link'] = tweets['text'].apply(lambda tweet: extract_link(tweet))\n"
   ]
  },
  {
   "cell_type": "markdown",
   "metadata": {},
   "source": [
    "Next we will create a new DataFrame called tweets_relevant_with_link. This DataFrame is a subset of tweets DataFrame and contains all relevant tweets that have a link."
   ]
  },
  {
   "cell_type": "code",
   "execution_count": 98,
   "metadata": {},
   "outputs": [],
   "source": [
    "tweets_relevant = tweets[tweets['relevant'] == True]\n",
    "tweets_relevant_with_link = tweets_relevant[tweets_relevant['link'] != '']"
   ]
  },
  {
   "cell_type": "code",
   "execution_count": null,
   "metadata": {},
   "outputs": [],
   "source": []
  },
  {
   "cell_type": "code",
   "execution_count": 99,
   "metadata": {},
   "outputs": [
    {
     "name": "stdout",
     "output_type": "stream",
     "text": [
      "---------Link of Cristiano Ronaldo---------\n",
      "373     https://t.co/xYNBU3idcK\n",
      "1352    https://t.co/eYWpsJ7XLn\n",
      "4905    https://t.co/pIqKs66R4H\n",
      "4915    https://t.co/1flncGqa2l\n",
      "5710    https://t.co/zGbL1BtDiK\n",
      "Name: link, dtype: object \n",
      "\n",
      "---------Link of Luis Suarez---------\n",
      "1573    https://t.co/g7xaLpMJZL\n",
      "5965          https://t.co/8rA…\n",
      "Name: link, dtype: object \n",
      "\n",
      "---------Lionel Messi---------\n",
      "373     https://t.co/xYNBU3idcK\n",
      "375     https://t.co/XncHQxy9u3\n",
      "448     https://t.co/jEWLT0qasF\n",
      "509     https://t.co/WGWOJvpVX3\n",
      "776     https://t.co/JHpoMbdSV4\n",
      "1080    https://t.co/LqI9wCxuha\n",
      "1313                https://t.…\n",
      "1428        https://t.co/WfiyW…\n",
      "1581        https://t.co/HfG9G…\n",
      "1658    https://t.co/wtMkMSeDrz\n",
      "1681    https://t.co/qnxlZ9ndY3\n",
      "1984    https://t.co/zo9LJWVlOA\n",
      "2224    https://t.co/pARNK1dJje\n",
      "2298    https://t.co/NsefOoLFAT\n",
      "2304    https://t.co/XncHQxy9u3\n",
      "2337    https://t.co/zo9LJWVlOA\n",
      "2344    https://t.co/7445uioON9\n",
      "2732    https://t.co/1EEWindnyk\n",
      "2813    https://t.co/NKfIikecJR\n",
      "2872           https://t.co/Zi…\n",
      "2960    https://t.co/lH3FpHrMEb\n",
      "3073        https://t.co/HfG9G…\n",
      "3355    https://t.co/OIRFzC4q0R\n",
      "3633    https://t.co/XncHQxy9u3\n",
      "3873    https://t.co/vs2fOx0l2S\n",
      "3878    https://t.co/Vc8gKFaCOh\n",
      "3897    https://t.co/p6ohWuleYw\n",
      "3940    https://t.co/bs69fXUNdr\n",
      "3956    https://t.co/XncHQxy9u3\n",
      "4339    https://t.co/XncHQxy9u3\n",
      "4492    https://t.co/KpkqrQbkJp\n",
      "4526    https://t.co/S82OXzzt6E\n",
      "4535    https://t.co/j5R3OxlCdw\n",
      "4541    https://t.co/Qtx89psYLy\n",
      "4551    https://t.co/xnP1dJ6GgQ\n",
      "4657    https://t.co/rsv5IhHruQ\n",
      "4672    https://t.co/nxCuG7Shjn\n",
      "4905    https://t.co/pIqKs66R4H\n",
      "5020    https://t.co/XncHQxy9u3\n",
      "5021    https://t.co/Lctkzn30Eu\n",
      "5027    https://t.co/kXkbLtYs61\n",
      "5109        https://t.co/HfG9G…\n",
      "5144        https://t.co/6jlTV…\n",
      "5381    https://t.co/TjaQJSWkmO\n",
      "5459    https://t.co/XncHQxy9u3\n",
      "5468     https://t.co/3duhtbFU…\n",
      "5547    https://t.co/iFEDTrni9f\n",
      "5670    https://t.co/x0pcSWYGhL\n",
      "5706    https://t.co/XncHQxy9u3\n",
      "5761    https://t.co/AGoEb83GSz\n",
      "5809        https://t.co/HfG9G…\n",
      "5992    https://t.co/uhAkGvlUxv\n",
      "5996    https://t.co/R0pmhGptVw\n",
      "6005        https://t.co/HfG9G…\n",
      "Name: link, dtype: object \n",
      "\n",
      "---------Link of Neymar---------\n",
      "32      https://t.co/mVAa0AsmiZ\\n\n",
      "76      https://t.co/a52TItj7h6\\n\n",
      "1666    https://t.co/JXuNIg9W9j\\n\n",
      "4264    https://t.co/rCxHJcEKRd\\n\n",
      "Name: link, dtype: object \n",
      "\n"
     ]
    }
   ],
   "source": [
    "print(\"---------Link of Cristiano Ronaldo---------\")\n",
    "print(tweets_relevant_with_link[tweets_relevant_with_link['Cristiano Ronaldo'] == True]['link'], \"\\n\")\n",
    "print(\"---------Link of Luis Suarez---------\")\n",
    "print(tweets_relevant_with_link[tweets_relevant_with_link['Luis Suarez'] == True]['link'], \"\\n\")\n",
    "print(\"---------Lionel Messi---------\")\n",
    "print(tweets_relevant_with_link[tweets_relevant_with_link['Lionel Messi'] == True]['link'], \"\\n\")\n",
    "print(\"---------Link of Neymar---------\")\n",
    "print(tweets_relevant_with_link[tweets_relevant_with_link['Neymar'] == True]['link'] + \"\\n\", \"\\n\")"
   ]
  },
  {
   "cell_type": "code",
   "execution_count": null,
   "metadata": {},
   "outputs": [],
   "source": []
  }
 ],
 "metadata": {
  "kernelspec": {
   "display_name": "Python 3",
   "language": "python",
   "name": "python3"
  },
  "language_info": {
   "codemirror_mode": {
    "name": "ipython",
    "version": 3
   },
   "file_extension": ".py",
   "mimetype": "text/x-python",
   "name": "python",
   "nbconvert_exporter": "python",
   "pygments_lexer": "ipython3",
   "version": "3.6.5"
  }
 },
 "nbformat": 4,
 "nbformat_minor": 2
}
