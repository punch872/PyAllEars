{
 "cells": [
  {
   "cell_type": "markdown",
   "metadata": {},
   "source": [
    "# Text Mining and Analysis Using Twitter Streaming API 📊"
   ]
  },
  {
   "cell_type": "markdown",
   "metadata": {},
   "source": [
    "![title](img/Twitter_Text_Mining.png)"
   ]
  },
  {
   "cell_type": "markdown",
   "metadata": {},
   "source": [
    "## Introduction\n",
    "Text mining is the application of natural language processing techniques and analytical methods to text data in order to derive relevant information. in this following works, It shows how to collecting data from Twitter with Twitter Streaming API that allow us to capture tweets real-time filter. "
   ]
  },
  {
   "cell_type": "markdown",
   "metadata": {},
   "source": [
    "In this study case I will use #WorldCup data to compare the popularity of 4 most popularity during Fifa World Cup Russia 2018 and most football player: Cristiano Ronaldo, Neymar,Lionel Messi and Luis Suarez, and to retrieve links to the news resoruces such as tweet,website,video,youtube etc.. In the first Part, I will explaing how to connect to Twitter Streaming API and how to get the data. In the second Part, I will explain and show how to structure the data for analysis, and in the last paragraph, And Finally I will explain how to filter the data and extract links from tweets."
   ]
  },
  {
   "cell_type": "markdown",
   "metadata": {},
   "source": [
    "# -- Part 1:Getting Start with Twitter API --"
   ]
  },
  {
   "cell_type": "markdown",
   "metadata": {},
   "source": [
    "## Understanding of Twitter API"
   ]
  },
  {
   "cell_type": "markdown",
   "metadata": {},
   "source": [
    "API stands for Application Programming Interface. It is a tool that makes the interaction with computer programs and web services easy"
   ]
  },
  {
   "cell_type": "markdown",
   "metadata": {},
   "source": [
    "## Getting Twitter API\n",
    "\n",
    "- Create a twitter account if you do not already have one.\n",
    "- Go to https://apps.twitter.com/ and log in with your twitter credentials.\n",
    "- Click \"Create New App\"\n",
    "- Fill out the form, agree to the terms, and click \"Create your Twitter application\"\n",
    "- In the next page, click on \"API keys\" tab, and copy your \"API key\" and \"API secret\".\n",
    "- Scroll down and click \"Create my access token\", and copy your \"Access token\" and \"Access token secret\".\n"
   ]
  },
  {
   "cell_type": "markdown",
   "metadata": {},
   "source": [
    "![title](img/Cap5.png)"
   ]
  },
  {
   "cell_type": "markdown",
   "metadata": {},
   "source": [
    "![title](img/Cap4.png)"
   ]
  },
  {
   "cell_type": "markdown",
   "metadata": {},
   "source": [
    "![title](img/Cap6.png)"
   ]
  },
  {
   "cell_type": "markdown",
   "metadata": {},
   "source": [
    "# Create Twitter streaming API file to shows the result of realtime filter streaming "
   ]
  },
  {
   "cell_type": "markdown",
   "metadata": {},
   "source": [
    "Create a file name Twitter_stream_api.py Using Tweepy library. We will be using a Python library called Tweepy to connect to Twitter Streaming API and downloading the data. If you don't have Tweepy installed in your machine, go to this <a href='https://github.com/tweepy/tweepy'> link</a>, and follow the installation instructions.\n",
    "\n",
    "Next create, a file called twitter_streaming.py, and copy into it the code below. Make sure to enter your credentials into access_token, access_token_secret, consumer_key, and consumer_secret."
   ]
  },
  {
   "cell_type": "markdown",
   "metadata": {},
   "source": [
    "![title](img/Cap1.png)"
   ]
  },
  {
   "cell_type": "markdown",
   "metadata": {},
   "source": [
    "### There are the outputs when execute the instruction from above\n",
    "the output returns the value in JSON from which contain more than 100 keys in 1 tweet, I've been streaming for 2 hours to collect data form Twitter "
   ]
  },
  {
   "cell_type": "markdown",
   "metadata": {},
   "source": [
    "![title](img/Cap2.png)"
   ]
  },
  {
   "cell_type": "markdown",
   "metadata": {},
   "source": [
    "# Capturing and Reading the Data"
   ]
  },
  {
   "cell_type": "markdown",
   "metadata": {},
   "source": [
    "#### In order to capture  the data for the analysis. I colloect by following command to store data in txt file"
   ]
  },
  {
   "cell_type": "markdown",
   "metadata": {},
   "source": [
    " #### <span style=\"color:blue\">python3</span>  Twitter_stream_api.py > data/worldcup2018_twitter_data.txt"
   ]
  },
  {
   "cell_type": "markdown",
   "metadata": {},
   "source": [
    "![title](img/Cap3.png)"
   ]
  },
  {
   "cell_type": "markdown",
   "metadata": {},
   "source": [
    "The data that we retrived is store in worldcup2018_twitter_data.txt which are JSON forfrt you can see that the tweet contain additional and more information example :\n",
    "\n",
    "<span style=\"color:red\" >\"text\"</span>:\"Lionel Messi, Marcus Rojo\\u2019s goals as Argentina best Nigeria"
   ]
  },
  {
   "cell_type": "markdown",
   "metadata": {},
   "source": [
    "# -------------------------------------------------------------------------------------------"
   ]
  },
  {
   "cell_type": "markdown",
   "metadata": {},
   "source": [
    "# -- Part 2: Structured data and analysis --"
   ]
  },
  {
   "cell_type": "markdown",
   "metadata": {},
   "source": [
    "In this Part we will be using 4 Python libraries <strong>json</strong> for parsing the data, <strong>pandas</strong>  for data manipulation, <strong>matplotlib</strong> for creating charts, adn <strong>re</strong> for regular expressions we use it to check if there's specific keyword in present text or not from the commands below:"
   ]
  },
  {
   "cell_type": "markdown",
   "metadata": {},
   "source": [
    "### import necessary library which contain \n",
    "- Json\n",
    "- pandas\n",
    "- matplotlib\n",
    "- re\n",
    "- matplotlib"
   ]
  },
  {
   "cell_type": "code",
   "execution_count": 2,
   "metadata": {},
   "outputs": [],
   "source": [
    "%matplotlib inline\n",
    "import re\n",
    "import json\n",
    "import pandas as pd\n",
    "import matplotlib.pyplot as plt"
   ]
  },
  {
   "cell_type": "markdown",
   "metadata": {},
   "source": [
    "### Read captured data from Txt File"
   ]
  },
  {
   "cell_type": "code",
   "execution_count": 3,
   "metadata": {},
   "outputs": [],
   "source": [
    "#path to tweets collected data\n",
    "tweets_data_path = 'data/worldcup2018_twitter_data.txt'\n",
    "#open the file\n",
    "tweets_data = []\n",
    "tweets_file = open(tweets_data_path, \"r\")\n",
    "for line in tweets_file:\n",
    "    try:\n",
    "        tweet = json.loads(line)\n",
    "        tweets_data.append(tweet)\n",
    "    except:\n",
    "        continue"
   ]
  },
  {
   "cell_type": "markdown",
   "metadata": {},
   "source": [
    "## Show the total captured tweet data \n",
    "using print and len ( ) function to read all count tweet data that has captured\n"
   ]
  },
  {
   "cell_type": "code",
   "execution_count": 4,
   "metadata": {},
   "outputs": [
    {
     "name": "stdout",
     "output_type": "stream",
     "text": [
      "6008\n"
     ]
    }
   ],
   "source": [
    "print(len(tweets_data))"
   ]
  },
  {
   "cell_type": "markdown",
   "metadata": {},
   "source": [
    "In This data/worldcup2018_twitter_data.txt we've capture totally <strong>6008</strong> tweets from twitter"
   ]
  },
  {
   "cell_type": "code",
   "execution_count": 5,
   "metadata": {},
   "outputs": [],
   "source": [
    "tweets = pd.DataFrame()"
   ]
  },
  {
   "cell_type": "markdown",
   "metadata": {},
   "source": [
    "Mapping capture tweet from JSON format fileform text file into data frame "
   ]
  },
  {
   "cell_type": "code",
   "execution_count": 6,
   "metadata": {},
   "outputs": [],
   "source": [
    "tweets['text'] = list(map(lambda tweet: tweet['text'], tweets_data))\n",
    "\n",
    "tweets['lang'] = list(map(lambda tweet: tweet['lang'], tweets_data))\n",
    "\n",
    "tweets['country'] = list(map(lambda tweet: tweet['place']['country'] if tweet['place'] != None else None, tweets_data))\n",
    "\n"
   ]
  },
  {
   "cell_type": "code",
   "execution_count": 7,
   "metadata": {},
   "outputs": [],
   "source": [
    "tweets_by_lang = tweets['lang'].value_counts()"
   ]
  },
  {
   "cell_type": "code",
   "execution_count": 8,
   "metadata": {},
   "outputs": [
    {
     "data": {
      "text/plain": [
       "en    3894\n",
       "pt     402\n",
       "es     335\n",
       "fr     270\n",
       "ja     221\n",
       "Name: lang, dtype: int64"
      ]
     },
     "execution_count": 8,
     "metadata": {},
     "output_type": "execute_result"
    }
   ],
   "source": [
    "tweets_by_lang.head()"
   ]
  },
  {
   "cell_type": "markdown",
   "metadata": {},
   "source": [
    "this shows top 5 language that has been tweet \n",
    "the most tweets are in English(en) and second in Protugal(pt) and third in Spanish(es),French(fr) and Japanese(jp)"
   ]
  },
  {
   "cell_type": "markdown",
   "metadata": {},
   "source": [
    "## Drawing the Graph\n",
    "In order to impliment the graph we use Mathplotlib library to draw the grph which has many kind of graph.In a simple implimentation I use bar graph for showing counting result from above and finding top 10 Languages from 60008 tweets that's captured"
   ]
  },
  {
   "cell_type": "code",
   "execution_count": 9,
   "metadata": {},
   "outputs": [
    {
     "data": {
      "text/plain": [
       "<matplotlib.axes._subplots.AxesSubplot at 0x11c1cac88>"
      ]
     },
     "execution_count": 9,
     "metadata": {},
     "output_type": "execute_result"
    },
    {
     "data": {
      "image/png": "[encoded data removed]",
      "text/plain": [
       "<Figure size 432x288 with 1 Axes>"
      ]
     },
     "metadata": {},
     "output_type": "display_data"
    }
   ],
   "source": [
    "fig, ax = plt.subplots()\n",
    "ax.tick_params(axis='x', labelsize=15)\n",
    "ax.tick_params(axis='y', labelsize=10)\n",
    "ax.set_xlabel('Number of tweets', fontsize=15)\n",
    "ax.set_ylabel('Language' , fontsize=15)\n",
    "ax.set_title('Top 10 languages', fontsize=15, fontweight='bold')\n",
    "tweets_by_lang[:10].plot(ax=ax, kind='barh') "
   ]
  },
  {
   "cell_type": "markdown",
   "metadata": {},
   "source": [
    "Showing different result in different kind of graph in <strong>Pie Graph</strong>"
   ]
  },
  {
   "cell_type": "code",
   "execution_count": 10,
   "metadata": {},
   "outputs": [
    {
     "data": {
      "text/plain": [
       "<matplotlib.axes._subplots.AxesSubplot at 0x11cd2cd30>"
      ]
     },
     "execution_count": 10,
     "metadata": {},
     "output_type": "execute_result"
    },
    {
     "data": {
      "image/png": "[encoded data removed]",
      "text/plain": [
       "<Figure size 432x288 with 1 Axes>"
      ]
     },
     "metadata": {},
     "output_type": "display_data"
    }
   ],
   "source": [
    "tweets_by_lang = tweets['lang'].value_counts()\n",
    "\n",
    "fig, ax = plt.subplots()\n",
    "ax.tick_params(axis='x', labelsize=15)\n",
    "ax.tick_params(axis='y', labelsize=10)\n",
    "ax.set_xlabel('Languages', fontsize=15)\n",
    "ax.set_ylabel('Number of tweets' , fontsize=15)\n",
    "ax.set_title('Top 10 languages', fontsize=15, fontweight='bold')\n",
    "tweets_by_lang[:10].plot(ax=ax, kind='pie',legend=True)"
   ]
  },
  {
   "cell_type": "markdown",
   "metadata": {},
   "source": [
    "Drawing a Graph for 10 countries that tweet about '#WorldCup2'"
   ]
  },
  {
   "cell_type": "code",
   "execution_count": 11,
   "metadata": {},
   "outputs": [
    {
     "data": {
      "text/plain": [
       "<matplotlib.axes._subplots.AxesSubplot at 0x11ce2f278>"
      ]
     },
     "execution_count": 11,
     "metadata": {},
     "output_type": "execute_result"
    },
    {
     "data": {
      "image/png": "[encoded data removed]",
      "text/plain": [
       "<Figure size 432x288 with 1 Axes>"
      ]
     },
     "metadata": {},
     "output_type": "display_data"
    }
   ],
   "source": [
    "tweets_by_country = tweets['country'].value_counts()\n",
    "\n",
    "fig, ax = plt.subplots()\n",
    "ax.tick_params(axis='x', labelsize=15)\n",
    "ax.tick_params(axis='y', labelsize=10)\n",
    "ax.set_xlabel('Countries', fontsize=15)\n",
    "ax.set_ylabel('Number of tweets' , fontsize=15)\n",
    "ax.set_title('Top 10 countries', fontsize=15, fontweight='bold')\n",
    "tweets_by_country[:10].plot(ax=ax, kind='bar')"
   ]
  },
  {
   "cell_type": "markdown",
   "metadata": {},
   "source": [
    "# -------------------------------------------------------------------------------------------"
   ]
  },
  {
   "cell_type": "markdown",
   "metadata": {},
   "source": [
    "# -- Part 3:Text Mining and Extracting Link -- "
   ]
  },
  {
   "cell_type": "markdown",
   "metadata": {},
   "source": [
    "Our main goals in these text mining tasks are: compare the popularity of Cristiano Ronaldo, Luis Suarez Neymar programming languages and to retrieve programming tutorial links. We will do this in 3 steps:\n",
    "\n",
    "- We will add tags to our tweets DataFrame in order to be able to manipualte the data easily.\n",
    "- Target tweets that have \"WorldCup\" or \"Fifa\" keywords.\n",
    "- Extract links from the relevants tweets"
   ]
  },
  {
   "cell_type": "markdown",
   "metadata": {},
   "source": [
    "Defind the function to convert all text that contain Capital and mixing text to lower case also using search function to find word in column text"
   ]
  },
  {
   "cell_type": "code",
   "execution_count": 12,
   "metadata": {},
   "outputs": [],
   "source": [
    "def word_in_text(word,text):\n",
    "    word = word.lower()\n",
    "    text = text.lower()\n",
    "    match = re.search(word,text)\n",
    "    if match :\n",
    "        return True\n",
    "    return False"
   ]
  },
  {
   "cell_type": "code",
   "execution_count": 13,
   "metadata": {},
   "outputs": [],
   "source": [
    "tweets['Cristiano Ronaldo'] =list(tweets['text'].apply(lambda tweet: word_in_text('Cristiano Ronaldo', tweet)))\n",
    "tweets['Luis Suarez'] =list(tweets['text'].apply(lambda tweet: word_in_text('Luis Suarez', tweet)))\n",
    "tweets['Neymar'] =list(tweets['text'].apply(lambda tweet: word_in_text('Neymar', tweet)))\n",
    "tweets['Lionel Messi'] =list(tweets['text'].apply(lambda tweet: word_in_text('Lionel Messi', tweet)))\n",
    "tweets['#WorldCup'] =list(tweets['text'].apply(lambda tweet: word_in_text('#WorldCup', tweet)))\n",
    "\n"
   ]
  },
  {
   "cell_type": "code",
   "execution_count": 14,
   "metadata": {},
   "outputs": [
    {
     "name": "stdout",
     "output_type": "stream",
     "text": [
      "False    5756\n",
      "True      252\n",
      "Name: Cristiano Ronaldo, dtype: int64\n",
      "False    6000\n",
      "True        8\n",
      "Name: Luis Suarez, dtype: int64\n",
      "False    5634\n",
      "True      374\n",
      "Name: Neymar, dtype: int64\n",
      "False    5340\n",
      "True      668\n",
      "Name: Lionel Messi, dtype: int64\n",
      "False    3569\n",
      "True     2439\n",
      "Name: #WorldCup, dtype: int64\n"
     ]
    }
   ],
   "source": [
    "#print all count False means not appear in Tweets and True means appear in Tweets\n",
    "print(tweets['Cristiano Ronaldo'].value_counts())\n",
    "print(tweets['Luis Suarez'].value_counts())\n",
    "print(tweets['Neymar'].value_counts())\n",
    "print(tweets['Lionel Messi'].value_counts())\n",
    "print(tweets['#WorldCup'].value_counts())\n",
    "\n",
    "\n"
   ]
  },
  {
   "cell_type": "code",
   "execution_count": 15,
   "metadata": {},
   "outputs": [],
   "source": [
    "CR = tweets['Cristiano Ronaldo'].value_counts()[True]\n",
    "LS = tweets['Luis Suarez'].value_counts()[True]\n",
    "NM = tweets['Neymar'].value_counts()[True]\n",
    "LM = tweets['Lionel Messi'].value_counts()[True]"
   ]
  },
  {
   "cell_type": "code",
   "execution_count": 16,
   "metadata": {},
   "outputs": [
    {
     "name": "stdout",
     "output_type": "stream",
     "text": [
      "total tweets of Cristiano Ronaldo are \n",
      " 252 tweets\n",
      "total tweets of Luis Suarezare \n",
      " 8 tweets\n",
      "total tweets of Neymar \n",
      " 374 tweets\n",
      "total tweets of Neymar Lionel Messi \n",
      " 668 tweets\n"
     ]
    }
   ],
   "source": [
    "print(\"total tweets of Cristiano Ronaldo are \\n\",CR,\"tweets\") #print total count of Cristiano Ronaldo\n",
    "print(\"total tweets of Luis Suarezare \\n\",LS,\"tweets\"),#print total count of Luis Suarez\n",
    "print(\"total tweets of Neymar \\n\",NM,\"tweets\")#print total count of Neymar\n",
    "print(\"total tweets of Neymar Lionel Messi \\n\",LM,\"tweets\")#print total count of Lionel Messi\n"
   ]
  },
  {
   "cell_type": "markdown",
   "metadata": {},
   "source": [
    "## Ranking\n",
    "to show all ranking of popularity on football player from above"
   ]
  },
  {
   "cell_type": "code",
   "execution_count": 17,
   "metadata": {},
   "outputs": [
    {
     "data": {
      "image/png": "[encoded data removed]",
      "text/plain": [
       "<Figure size 432x288 with 1 Axes>"
      ]
     },
     "metadata": {},
     "output_type": "display_data"
    }
   ],
   "source": [
    "Fb_player = ['Cristiano Ronaldo', 'Luis Suarez', 'Lionel Messi','Neymar']\n",
    "tweets_by_Fb_player = [CR,LS,LM,NM]\n",
    "x_pos = list(range(len(Fb_player)))\n",
    "width = 0.8\n",
    "fig, ax = plt.subplots()\n",
    "#ploting graph of tweets_by_Fb_player\n",
    "pack_color = 'rgbm'\n",
    "plt.bar(x_pos, tweets_by_Fb_player, width, alpha=1,color=pack_color)\n",
    "# Setting axis labels and ticks\n",
    "ax.set_ylabel('Number of tweets', fontsize=15)\n",
    "ax.set_title('Ranking: Cristiano Ronaldo vs. Luis Suarezvs vs Lionel Messi  vs Neymar', fontsize=10, fontweight='bold')\n",
    "ax.set_xticks([p + 0.01 * width for p in x_pos])\n",
    "ax.set_xticklabels(Fb_player)\n",
    "plt.grid()\n"
   ]
  },
  {
   "cell_type": "markdown",
   "metadata": {},
   "source": [
    "## Specifying Relevant Tweet text\n",
    "In this part I'll try to specifying the keywor in order to match football players who were mention during the WorldCup 2018 with keywords 'FiFa2018' or'World Cup' or 'WorldCup'"
   ]
  },
  {
   "cell_type": "markdown",
   "metadata": {},
   "source": [
    "Mapping keywords of Fifa2018 and Worldcup that appear in text <span style=color>relevant that take value True if the tweet has either \"programming\" or \"tutorial\" keyword, otherwise it takes value False."
   ]
  },
  {
   "cell_type": "code",
   "execution_count": 18,
   "metadata": {},
   "outputs": [],
   "source": [
    "#Mapping keywords of Fifa2018 and Worldcup that appear in text\n",
    "tweets['FIFA2018'] =list(tweets['text'].apply(lambda tweet: word_in_text('FIFA2018', tweet)))\n",
    "tweets['World Cup'] =list(tweets['text'].apply(lambda tweet: word_in_text('World Cup', tweet)))"
   ]
  },
  {
   "cell_type": "markdown",
   "metadata": {},
   "source": [
    "Create Relevent to apply with words in text that appear on tweets "
   ]
  },
  {
   "cell_type": "code",
   "execution_count": 19,
   "metadata": {},
   "outputs": [],
   "source": [
    "tweets['relevant'] = tweets['text'].apply(lambda tweet: word_in_text('FIFA2018', tweet) or \n",
    "                                          word_in_text('World Cup', tweet))                        "
   ]
  },
  {
   "cell_type": "code",
   "execution_count": 20,
   "metadata": {},
   "outputs": [
    {
     "name": "stdout",
     "output_type": "stream",
     "text": [
      "False    5692\n",
      "True      316\n",
      "Name: relevant, dtype: int64\n",
      "False    6005\n",
      "True        3\n",
      "Name: FIFA2018, dtype: int64\n",
      "False    5695\n",
      "True      313\n",
      "Name: World Cup, dtype: int64\n"
     ]
    }
   ],
   "source": [
    "#print keyword and Count values that appear in Captured Tweet\n",
    "print(tweets['relevant'].value_counts())\n",
    "print(tweets['FIFA2018'].value_counts())\n",
    "print(tweets['World Cup'].value_counts())"
   ]
  },
  {
   "cell_type": "markdown",
   "metadata": {},
   "source": [
    "Showing Matching keyword and Football player name values that appear in Captured Tweet"
   ]
  },
  {
   "cell_type": "code",
   "execution_count": 21,
   "metadata": {},
   "outputs": [
    {
     "name": "stdout",
     "output_type": "stream",
     "text": [
      "False    305\n",
      "True      11\n",
      "Name: Cristiano Ronaldo, dtype: int64\n",
      "False    314\n",
      "True       2\n",
      "Name: Luis Suarez, dtype: int64\n",
      "False    311\n",
      "True       5\n",
      "Name: Neymar, dtype: int64\n",
      "False    244\n",
      "True      72\n",
      "Name: Lionel Messi, dtype: int64\n"
     ]
    }
   ],
   "source": [
    "#print Matching keyword and Football player name values that appear in Captured Tweet\n",
    "print(tweets[tweets['relevant'] == True]['Cristiano Ronaldo'].value_counts())\n",
    "print(tweets[tweets['relevant'] == True]['Luis Suarez'].value_counts())\n",
    "print(tweets[tweets['relevant'] == True]['Neymar'].value_counts())\n",
    "print(tweets[tweets['relevant'] == True]['Lionel Messi'].value_counts())"
   ]
  },
  {
   "cell_type": "code",
   "execution_count": 22,
   "metadata": {},
   "outputs": [
    {
     "data": {
      "image/png": "[encoded data removed]",
      "text/plain": [
       "<Figure size 432x288 with 1 Axes>"
      ]
     },
     "metadata": {},
     "output_type": "display_data"
    }
   ],
   "source": [
    "R_tweets_by_Fb_player = [tweets[tweets['relevant'] == True]['Cristiano Ronaldo'].value_counts()[True], \n",
    "                      tweets[tweets['relevant'] == True]['Luis Suarez'].value_counts()[True], \n",
    "                       tweets[tweets['relevant'] == True]['Lionel Messi'].value_counts()[True],\n",
    "                      tweets[tweets['relevant'] == True]['Neymar'].value_counts()[True],\n",
    "                     ]\n",
    "x_pos = list(range(len(R_tweets_by_Fb_player)))\n",
    "width = 0.8\n",
    "fig, ax = plt.subplots()\n",
    "plt.legend(R_tweets_by_Fb_player)\n",
    "plt.bar(x_pos, R_tweets_by_Fb_player, width,alpha=1,color=pack_color)\n",
    "# Setting axis labels and ticks\n",
    "ax.set_ylabel('Number of tweets', fontsize=15)\n",
    "ax.set_title('Ranking: Cristiano Ronaldo vs. Luis Suarez vs Lionel Messi  vs Neymar', fontsize=10, fontweight='bold')\n",
    "ax.set_xticks([p + 0.01 * width for p in x_pos])\n",
    "ax.set_xticklabels(Fb_player)\n",
    "plt.grid()"
   ]
  },
  {
   "cell_type": "markdown",
   "metadata": {},
   "source": [
    "# Extracting links from the relevants tweets\n"
   ]
  },
  {
   "cell_type": "markdown",
   "metadata": {},
   "source": [
    "In this part we extracted the relevant tweets, we want to retrieve links to programming tutorials. We will start by creating a function that uses regular expressions for retrieving link that start with \"http://\" or \"https://\" from a text. This function will return the url if found, otherwise it returns an empty string."
   ]
  },
  {
   "cell_type": "code",
   "execution_count": 23,
   "metadata": {},
   "outputs": [],
   "source": [
    "def extract_link(text):\n",
    "    regex = 'https?://[^\\s<>\"]+|www\\.[^\\s<>\"]+'\n",
    "    match = re.search(regex, text)\n",
    "    if match:\n",
    "        return match.group()\n",
    "    return ''"
   ]
  },
  {
   "cell_type": "markdown",
   "metadata": {},
   "source": [
    "Next, we will add a column called link to our tweets DataFrame. This column will contain the urls information."
   ]
  },
  {
   "cell_type": "code",
   "execution_count": 24,
   "metadata": {},
   "outputs": [],
   "source": [
    "tweets['link'] = tweets['text'].apply(lambda tweet: extract_link(tweet))\n"
   ]
  },
  {
   "cell_type": "markdown",
   "metadata": {},
   "source": [
    "Next we will create a new DataFrame called tweets_relevant_with_link. This DataFrame is a subset of tweets DataFrame and contains all relevant tweets that have a link."
   ]
  },
  {
   "cell_type": "code",
   "execution_count": 25,
   "metadata": {},
   "outputs": [],
   "source": [
    "tweets_relevant = tweets[tweets['relevant'] == True]\n",
    "tweets_relevant_with_link = tweets_relevant[tweets_relevant['link'] != '']"
   ]
  },
  {
   "cell_type": "markdown",
   "metadata": {},
   "source": [
    "We can now print out all links for football player by executing the commands below that contain all football players: "
   ]
  },
  {
   "cell_type": "code",
   "execution_count": 26,
   "metadata": {
    "scrolled": true
   },
   "outputs": [
    {
     "name": "stdout",
     "output_type": "stream",
     "text": [
      "---------Link of Cristiano Ronaldo---------\n",
      "373     https://t.co/xYNBU3idcK\n",
      "1352    https://t.co/eYWpsJ7XLn\n",
      "4905    https://t.co/pIqKs66R4H\n",
      "4915    https://t.co/1flncGqa2l\n",
      "5710    https://t.co/zGbL1BtDiK\n",
      "Name: link, dtype: object\n",
      "---------Link of Luis Suarez---------\n",
      "1573    https://t.co/g7xaLpMJZL\n",
      "5965          https://t.co/8rA…\n",
      "Name: link, dtype: object\n",
      "---------Lionel Messi---------\n",
      "373     https://t.co/xYNBU3idcK\n",
      "375     https://t.co/XncHQxy9u3\n",
      "448     https://t.co/jEWLT0qasF\n",
      "509     https://t.co/WGWOJvpVX3\n",
      "776     https://t.co/JHpoMbdSV4\n",
      "1080    https://t.co/LqI9wCxuha\n",
      "1313                https://t.…\n",
      "1428        https://t.co/WfiyW…\n",
      "1581        https://t.co/HfG9G…\n",
      "1658    https://t.co/wtMkMSeDrz\n",
      "1681    https://t.co/qnxlZ9ndY3\n",
      "1984    https://t.co/zo9LJWVlOA\n",
      "2224    https://t.co/pARNK1dJje\n",
      "2298    https://t.co/NsefOoLFAT\n",
      "2304    https://t.co/XncHQxy9u3\n",
      "2337    https://t.co/zo9LJWVlOA\n",
      "2344    https://t.co/7445uioON9\n",
      "2732    https://t.co/1EEWindnyk\n",
      "2813    https://t.co/NKfIikecJR\n",
      "2872           https://t.co/Zi…\n",
      "2960    https://t.co/lH3FpHrMEb\n",
      "3073        https://t.co/HfG9G…\n",
      "3355    https://t.co/OIRFzC4q0R\n",
      "3633    https://t.co/XncHQxy9u3\n",
      "3873    https://t.co/vs2fOx0l2S\n",
      "3878    https://t.co/Vc8gKFaCOh\n",
      "3897    https://t.co/p6ohWuleYw\n",
      "3940    https://t.co/bs69fXUNdr\n",
      "3956    https://t.co/XncHQxy9u3\n",
      "4339    https://t.co/XncHQxy9u3\n",
      "4492    https://t.co/KpkqrQbkJp\n",
      "4526    https://t.co/S82OXzzt6E\n",
      "4535    https://t.co/j5R3OxlCdw\n",
      "4541    https://t.co/Qtx89psYLy\n",
      "4551    https://t.co/xnP1dJ6GgQ\n",
      "4657    https://t.co/rsv5IhHruQ\n",
      "4672    https://t.co/nxCuG7Shjn\n",
      "4905    https://t.co/pIqKs66R4H\n",
      "5020    https://t.co/XncHQxy9u3\n",
      "5021    https://t.co/Lctkzn30Eu\n",
      "5027    https://t.co/kXkbLtYs61\n",
      "5109        https://t.co/HfG9G…\n",
      "5144        https://t.co/6jlTV…\n",
      "5381    https://t.co/TjaQJSWkmO\n",
      "5459    https://t.co/XncHQxy9u3\n",
      "5468     https://t.co/3duhtbFU…\n",
      "5547    https://t.co/iFEDTrni9f\n",
      "5670    https://t.co/x0pcSWYGhL\n",
      "5706    https://t.co/XncHQxy9u3\n",
      "5761    https://t.co/AGoEb83GSz\n",
      "5809        https://t.co/HfG9G…\n",
      "5992    https://t.co/uhAkGvlUxv\n",
      "5996    https://t.co/R0pmhGptVw\n",
      "6005        https://t.co/HfG9G…\n",
      "Name: link, dtype: object\n",
      "---------Link of Neymar---------\n",
      "32      https://t.co/mVAa0AsmiZ\n",
      "76      https://t.co/a52TItj7h6\n",
      "1666    https://t.co/JXuNIg9W9j\n",
      "4264    https://t.co/rCxHJcEKRd\n",
      "Name: link, dtype: object\n"
     ]
    }
   ],
   "source": [
    "print(\"---------Link of Cristiano Ronaldo---------\")\n",
    "print(tweets_relevant_with_link[tweets_relevant_with_link['Cristiano Ronaldo'] == True]['link'])\n",
    "print(\"---------Link of Luis Suarez---------\")\n",
    "print(tweets_relevant_with_link[tweets_relevant_with_link['Luis Suarez'] == True]['link'])\n",
    "print(\"---------Lionel Messi---------\")\n",
    "print(tweets_relevant_with_link[tweets_relevant_with_link['Lionel Messi'] == True]['link'])\n",
    "print(\"---------Link of Neymar---------\")\n",
    "print(tweets_relevant_with_link[tweets_relevant_with_link['Neymar'] == True]['link'])"
   ]
  },
  {
   "cell_type": "markdown",
   "metadata": {},
   "source": [
    "## Results"
   ]
  },
  {
   "cell_type": "markdown",
   "metadata": {},
   "source": [
    "![title](img/Ronaldo.png)\n",
    "![title](img/Ronaldo2.png)"
   ]
  },
  {
   "cell_type": "markdown",
   "metadata": {},
   "source": [
    "![title](img/Suarez.png)"
   ]
  },
  {
   "cell_type": "markdown",
   "metadata": {},
   "source": [
    "![title](img/Messi.png)"
   ]
  },
  {
   "cell_type": "markdown",
   "metadata": {},
   "source": [
    "![title](img/Neymar.png)"
   ]
  },
  {
   "cell_type": "markdown",
   "metadata": {},
   "source": [
    "# Reference\n",
    "- https://matplotlib.org\n",
    "- https://apps.twitter.com\n",
    "- https://developer.twitter.com\n",
    "- http://www.tweepy.org\n",
    "- http://en.wikipedia.org/wiki/Text_mining\n",
    "- http://en.wikipedia.org/wiki/Word-sense_disambiguation\n",
    "- http://en.wikipedia.org/wiki/Regular_expression"
   ]
  },
  {
   "cell_type": "markdown",
   "metadata": {},
   "source": [
    "# -------------------------------------------------------------------------------------------"
   ]
  },
  {
   "cell_type": "code",
   "execution_count": null,
   "metadata": {},
   "outputs": [],
   "source": []
  }
 ],
 "metadata": {
  "kernelspec": {
   "display_name": "Python 3",
   "language": "python",
   "name": "python3"
  },
  "language_info": {
   "codemirror_mode": {
    "name": "ipython",
    "version": 3
   },
   "file_extension": ".py",
   "mimetype": "text/x-python",
   "name": "python",
   "nbconvert_exporter": "python",
   "pygments_lexer": "ipython3",
   "version": "3.6.5"
  }
 },
 "nbformat": 4,
 "nbformat_minor": 2
}
